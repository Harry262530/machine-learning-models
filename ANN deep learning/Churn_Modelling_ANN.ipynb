{
  "nbformat": 4,
  "nbformat_minor": 0,
  "metadata": {
    "colab": {
      "provenance": []
    },
    "kernelspec": {
      "name": "python3",
      "display_name": "Python 3"
    },
    "language_info": {
      "name": "python"
    }
  },
  "cells": [
    {
      "cell_type": "code",
      "source": [
        "import numpy as np\n",
        "import pandas as pd\n",
        "import matplotlib.pyplot as plt"
      ],
      "metadata": {
        "id": "aQ9Fj1gvUfDk"
      },
      "execution_count": 1,
      "outputs": []
    },
    {
      "cell_type": "code",
      "source": [
        "data=pd.read_csv(\"Churn_Modelling.csv\")"
      ],
      "metadata": {
        "id": "FjFnkOchVLpQ"
      },
      "execution_count": 2,
      "outputs": []
    },
    {
      "cell_type": "code",
      "source": [
        "data.head()"
      ],
      "metadata": {
        "colab": {
          "base_uri": "https://localhost:8080/",
          "height": 206
        },
        "id": "NAOta5rvXlub",
        "outputId": "68321cfc-5086-415e-9ff9-f6075cad9b00"
      },
      "execution_count": 3,
      "outputs": [
        {
          "output_type": "execute_result",
          "data": {
            "text/plain": [
              "   RowNumber  CustomerId   Surname  CreditScore Geography  Gender  Age  \\\n",
              "0          1    15634602  Hargrave          619    France  Female   42   \n",
              "1          2    15647311      Hill          608     Spain  Female   41   \n",
              "2          3    15619304      Onio          502    France  Female   42   \n",
              "3          4    15701354      Boni          699    France  Female   39   \n",
              "4          5    15737888  Mitchell          850     Spain  Female   43   \n",
              "\n",
              "   Tenure    Balance  NumOfProducts  HasCrCard  IsActiveMember  \\\n",
              "0       2       0.00              1          1               1   \n",
              "1       1   83807.86              1          0               1   \n",
              "2       8  159660.80              3          1               0   \n",
              "3       1       0.00              2          0               0   \n",
              "4       2  125510.82              1          1               1   \n",
              "\n",
              "   EstimatedSalary  Exited  \n",
              "0        101348.88       1  \n",
              "1        112542.58       0  \n",
              "2        113931.57       1  \n",
              "3         93826.63       0  \n",
              "4         79084.10       0  "
            ],
            "text/html": [
              "\n",
              "  <div id=\"df-97b14ca5-b6a5-43d3-86b7-b96bde97d425\">\n",
              "    <div class=\"colab-df-container\">\n",
              "      <div>\n",
              "<style scoped>\n",
              "    .dataframe tbody tr th:only-of-type {\n",
              "        vertical-align: middle;\n",
              "    }\n",
              "\n",
              "    .dataframe tbody tr th {\n",
              "        vertical-align: top;\n",
              "    }\n",
              "\n",
              "    .dataframe thead th {\n",
              "        text-align: right;\n",
              "    }\n",
              "</style>\n",
              "<table border=\"1\" class=\"dataframe\">\n",
              "  <thead>\n",
              "    <tr style=\"text-align: right;\">\n",
              "      <th></th>\n",
              "      <th>RowNumber</th>\n",
              "      <th>CustomerId</th>\n",
              "      <th>Surname</th>\n",
              "      <th>CreditScore</th>\n",
              "      <th>Geography</th>\n",
              "      <th>Gender</th>\n",
              "      <th>Age</th>\n",
              "      <th>Tenure</th>\n",
              "      <th>Balance</th>\n",
              "      <th>NumOfProducts</th>\n",
              "      <th>HasCrCard</th>\n",
              "      <th>IsActiveMember</th>\n",
              "      <th>EstimatedSalary</th>\n",
              "      <th>Exited</th>\n",
              "    </tr>\n",
              "  </thead>\n",
              "  <tbody>\n",
              "    <tr>\n",
              "      <th>0</th>\n",
              "      <td>1</td>\n",
              "      <td>15634602</td>\n",
              "      <td>Hargrave</td>\n",
              "      <td>619</td>\n",
              "      <td>France</td>\n",
              "      <td>Female</td>\n",
              "      <td>42</td>\n",
              "      <td>2</td>\n",
              "      <td>0.00</td>\n",
              "      <td>1</td>\n",
              "      <td>1</td>\n",
              "      <td>1</td>\n",
              "      <td>101348.88</td>\n",
              "      <td>1</td>\n",
              "    </tr>\n",
              "    <tr>\n",
              "      <th>1</th>\n",
              "      <td>2</td>\n",
              "      <td>15647311</td>\n",
              "      <td>Hill</td>\n",
              "      <td>608</td>\n",
              "      <td>Spain</td>\n",
              "      <td>Female</td>\n",
              "      <td>41</td>\n",
              "      <td>1</td>\n",
              "      <td>83807.86</td>\n",
              "      <td>1</td>\n",
              "      <td>0</td>\n",
              "      <td>1</td>\n",
              "      <td>112542.58</td>\n",
              "      <td>0</td>\n",
              "    </tr>\n",
              "    <tr>\n",
              "      <th>2</th>\n",
              "      <td>3</td>\n",
              "      <td>15619304</td>\n",
              "      <td>Onio</td>\n",
              "      <td>502</td>\n",
              "      <td>France</td>\n",
              "      <td>Female</td>\n",
              "      <td>42</td>\n",
              "      <td>8</td>\n",
              "      <td>159660.80</td>\n",
              "      <td>3</td>\n",
              "      <td>1</td>\n",
              "      <td>0</td>\n",
              "      <td>113931.57</td>\n",
              "      <td>1</td>\n",
              "    </tr>\n",
              "    <tr>\n",
              "      <th>3</th>\n",
              "      <td>4</td>\n",
              "      <td>15701354</td>\n",
              "      <td>Boni</td>\n",
              "      <td>699</td>\n",
              "      <td>France</td>\n",
              "      <td>Female</td>\n",
              "      <td>39</td>\n",
              "      <td>1</td>\n",
              "      <td>0.00</td>\n",
              "      <td>2</td>\n",
              "      <td>0</td>\n",
              "      <td>0</td>\n",
              "      <td>93826.63</td>\n",
              "      <td>0</td>\n",
              "    </tr>\n",
              "    <tr>\n",
              "      <th>4</th>\n",
              "      <td>5</td>\n",
              "      <td>15737888</td>\n",
              "      <td>Mitchell</td>\n",
              "      <td>850</td>\n",
              "      <td>Spain</td>\n",
              "      <td>Female</td>\n",
              "      <td>43</td>\n",
              "      <td>2</td>\n",
              "      <td>125510.82</td>\n",
              "      <td>1</td>\n",
              "      <td>1</td>\n",
              "      <td>1</td>\n",
              "      <td>79084.10</td>\n",
              "      <td>0</td>\n",
              "    </tr>\n",
              "  </tbody>\n",
              "</table>\n",
              "</div>\n",
              "      <button class=\"colab-df-convert\" onclick=\"convertToInteractive('df-97b14ca5-b6a5-43d3-86b7-b96bde97d425')\"\n",
              "              title=\"Convert this dataframe to an interactive table.\"\n",
              "              style=\"display:none;\">\n",
              "        \n",
              "  <svg xmlns=\"http://www.w3.org/2000/svg\" height=\"24px\"viewBox=\"0 0 24 24\"\n",
              "       width=\"24px\">\n",
              "    <path d=\"M0 0h24v24H0V0z\" fill=\"none\"/>\n",
              "    <path d=\"M18.56 5.44l.94 2.06.94-2.06 2.06-.94-2.06-.94-.94-2.06-.94 2.06-2.06.94zm-11 1L8.5 8.5l.94-2.06 2.06-.94-2.06-.94L8.5 2.5l-.94 2.06-2.06.94zm10 10l.94 2.06.94-2.06 2.06-.94-2.06-.94-.94-2.06-.94 2.06-2.06.94z\"/><path d=\"M17.41 7.96l-1.37-1.37c-.4-.4-.92-.59-1.43-.59-.52 0-1.04.2-1.43.59L10.3 9.45l-7.72 7.72c-.78.78-.78 2.05 0 2.83L4 21.41c.39.39.9.59 1.41.59.51 0 1.02-.2 1.41-.59l7.78-7.78 2.81-2.81c.8-.78.8-2.07 0-2.86zM5.41 20L4 18.59l7.72-7.72 1.47 1.35L5.41 20z\"/>\n",
              "  </svg>\n",
              "      </button>\n",
              "      \n",
              "  <style>\n",
              "    .colab-df-container {\n",
              "      display:flex;\n",
              "      flex-wrap:wrap;\n",
              "      gap: 12px;\n",
              "    }\n",
              "\n",
              "    .colab-df-convert {\n",
              "      background-color: #E8F0FE;\n",
              "      border: none;\n",
              "      border-radius: 50%;\n",
              "      cursor: pointer;\n",
              "      display: none;\n",
              "      fill: #1967D2;\n",
              "      height: 32px;\n",
              "      padding: 0 0 0 0;\n",
              "      width: 32px;\n",
              "    }\n",
              "\n",
              "    .colab-df-convert:hover {\n",
              "      background-color: #E2EBFA;\n",
              "      box-shadow: 0px 1px 2px rgba(60, 64, 67, 0.3), 0px 1px 3px 1px rgba(60, 64, 67, 0.15);\n",
              "      fill: #174EA6;\n",
              "    }\n",
              "\n",
              "    [theme=dark] .colab-df-convert {\n",
              "      background-color: #3B4455;\n",
              "      fill: #D2E3FC;\n",
              "    }\n",
              "\n",
              "    [theme=dark] .colab-df-convert:hover {\n",
              "      background-color: #434B5C;\n",
              "      box-shadow: 0px 1px 3px 1px rgba(0, 0, 0, 0.15);\n",
              "      filter: drop-shadow(0px 1px 2px rgba(0, 0, 0, 0.3));\n",
              "      fill: #FFFFFF;\n",
              "    }\n",
              "  </style>\n",
              "\n",
              "      <script>\n",
              "        const buttonEl =\n",
              "          document.querySelector('#df-97b14ca5-b6a5-43d3-86b7-b96bde97d425 button.colab-df-convert');\n",
              "        buttonEl.style.display =\n",
              "          google.colab.kernel.accessAllowed ? 'block' : 'none';\n",
              "\n",
              "        async function convertToInteractive(key) {\n",
              "          const element = document.querySelector('#df-97b14ca5-b6a5-43d3-86b7-b96bde97d425');\n",
              "          const dataTable =\n",
              "            await google.colab.kernel.invokeFunction('convertToInteractive',\n",
              "                                                     [key], {});\n",
              "          if (!dataTable) return;\n",
              "\n",
              "          const docLinkHtml = 'Like what you see? Visit the ' +\n",
              "            '<a target=\"_blank\" href=https://colab.research.google.com/notebooks/data_table.ipynb>data table notebook</a>'\n",
              "            + ' to learn more about interactive tables.';\n",
              "          element.innerHTML = '';\n",
              "          dataTable['output_type'] = 'display_data';\n",
              "          await google.colab.output.renderOutput(dataTable, element);\n",
              "          const docLink = document.createElement('div');\n",
              "          docLink.innerHTML = docLinkHtml;\n",
              "          element.appendChild(docLink);\n",
              "        }\n",
              "      </script>\n",
              "    </div>\n",
              "  </div>\n",
              "  "
            ]
          },
          "metadata": {},
          "execution_count": 3
        }
      ]
    },
    {
      "cell_type": "code",
      "source": [
        "import seaborn as sns"
      ],
      "metadata": {
        "id": "afycBrWuX0EL"
      },
      "execution_count": 4,
      "outputs": []
    },
    {
      "cell_type": "code",
      "source": [
        "plt.figure(figsize=(15,15))\n",
        "sns.heatmap(data.corr(),annot=True,vmin=0,vmax=1)"
      ],
      "metadata": {
        "colab": {
          "base_uri": "https://localhost:8080/",
          "height": 956
        },
        "id": "WgGTG2EhY5ej",
        "outputId": "4e53e003-9fdf-4578-e3fd-c8b033f0ada0"
      },
      "execution_count": 5,
      "outputs": [
        {
          "output_type": "execute_result",
          "data": {
            "text/plain": [
              "<matplotlib.axes._subplots.AxesSubplot at 0x7f95869536d0>"
            ]
          },
          "metadata": {},
          "execution_count": 5
        },
        {
          "output_type": "display_data",
          "data": {
            "text/plain": [
              "<Figure size 1080x1080 with 2 Axes>"
            ],
            "image/png": "[encoded data removed]"
          },
          "metadata": {
            "needs_background": "light"
          }
        }
      ]
    },
    {
      "cell_type": "code",
      "source": [
        "x=data.iloc[:,3:13].values\n",
        "y=data.iloc[:,13].values"
      ],
      "metadata": {
        "id": "pao4kChGZRsz"
      },
      "execution_count": 55,
      "outputs": []
    },
    {
      "cell_type": "code",
      "source": [
        "x.shape"
      ],
      "metadata": {
        "colab": {
          "base_uri": "https://localhost:8080/"
        },
        "id": "H7oQRms5ZnNL",
        "outputId": "2388f09e-84a4-4eb2-a074-a043e1e7ec90"
      },
      "execution_count": 56,
      "outputs": [
        {
          "output_type": "execute_result",
          "data": {
            "text/plain": [
              "(10000, 10)"
            ]
          },
          "metadata": {},
          "execution_count": 56
        }
      ]
    },
    {
      "cell_type": "code",
      "source": [
        "y.shape"
      ],
      "metadata": {
        "colab": {
          "base_uri": "https://localhost:8080/"
        },
        "id": "QLx7EoF9Zs0z",
        "outputId": "aea0755c-ce4b-46f0-dfbb-ce438b6d08b4"
      },
      "execution_count": 57,
      "outputs": [
        {
          "output_type": "execute_result",
          "data": {
            "text/plain": [
              "(10000,)"
            ]
          },
          "metadata": {},
          "execution_count": 57
        }
      ]
    },
    {
      "cell_type": "code",
      "source": [
        "x"
      ],
      "metadata": {
        "colab": {
          "base_uri": "https://localhost:8080/"
        },
        "id": "Ok7yWz9JZ_Sa",
        "outputId": "1c47d0fe-fecf-47d2-a8c8-73d4c4e98051"
      },
      "execution_count": 58,
      "outputs": [
        {
          "output_type": "execute_result",
          "data": {
            "text/plain": [
              "array([[619, 'France', 'Female', ..., 1, 1, 101348.88],\n",
              "       [608, 'Spain', 'Female', ..., 0, 1, 112542.58],\n",
              "       [502, 'France', 'Female', ..., 1, 0, 113931.57],\n",
              "       ...,\n",
              "       [709, 'France', 'Female', ..., 0, 1, 42085.58],\n",
              "       [772, 'Germany', 'Male', ..., 1, 0, 92888.52],\n",
              "       [792, 'France', 'Female', ..., 1, 0, 38190.78]], dtype=object)"
            ]
          },
          "metadata": {},
          "execution_count": 58
        }
      ]
    },
    {
      "cell_type": "code",
      "source": [
        "from sklearn.preprocessing import LabelEncoder,OneHotEncoder\n",
        "labeler=LabelEncoder()\n",
        "x[:,1]=labeler.fit_transform(x[:,1])\n",
        "labeler2=LabelEncoder()\n",
        "x[:,2]=labeler2.fit_transform(x[:,2])"
      ],
      "metadata": {
        "id": "uBdUOj0ua3bK"
      },
      "execution_count": 59,
      "outputs": []
    },
    {
      "cell_type": "code",
      "source": [
        "x"
      ],
      "metadata": {
        "colab": {
          "base_uri": "https://localhost:8080/"
        },
        "id": "I-C8SwzebAFi",
        "outputId": "3a859898-b43d-4617-bb57-75bb95004f90"
      },
      "execution_count": 60,
      "outputs": [
        {
          "output_type": "execute_result",
          "data": {
            "text/plain": [
              "array([[619, 0, 0, ..., 1, 1, 101348.88],\n",
              "       [608, 2, 0, ..., 0, 1, 112542.58],\n",
              "       [502, 0, 0, ..., 1, 0, 113931.57],\n",
              "       ...,\n",
              "       [709, 0, 0, ..., 0, 1, 42085.58],\n",
              "       [772, 1, 1, ..., 1, 0, 92888.52],\n",
              "       [792, 0, 0, ..., 1, 0, 38190.78]], dtype=object)"
            ]
          },
          "metadata": {},
          "execution_count": 60
        }
      ]
    },
    {
      "cell_type": "code",
      "source": [
        "from sklearn.compose import ColumnTransformer \n",
        "\n",
        "ct = ColumnTransformer([('Geography',OneHotEncoder(categories='auto'),[1])],remainder='passthrough')\n",
        "x = ct.fit_transform(x)"
      ],
      "metadata": {
        "id": "We1Rb_dpAxMS"
      },
      "execution_count": 61,
      "outputs": []
    },
    {
      "cell_type": "code",
      "source": [
        "x.shape"
      ],
      "metadata": {
        "colab": {
          "base_uri": "https://localhost:8080/"
        },
        "id": "5DzGJL2rBFEX",
        "outputId": "643f8532-86b3-4a77-f1c1-9c398c36603b"
      },
      "execution_count": 62,
      "outputs": [
        {
          "output_type": "execute_result",
          "data": {
            "text/plain": [
              "(10000, 12)"
            ]
          },
          "metadata": {},
          "execution_count": 62
        }
      ]
    },
    {
      "cell_type": "code",
      "source": [
        "x=x[:,1:]"
      ],
      "metadata": {
        "id": "aGMzWN3z9lh_"
      },
      "execution_count": 63,
      "outputs": []
    },
    {
      "cell_type": "code",
      "source": [
        "from sklearn.model_selection import train_test_split\n",
        "x_train,x_test,y_train,y_test=train_test_split(x,y,test_size=0.3,random_state=134)"
      ],
      "metadata": {
        "id": "aKkKa1PeCnXg"
      },
      "execution_count": 69,
      "outputs": []
    },
    {
      "cell_type": "code",
      "source": [
        "x_test.shape"
      ],
      "metadata": {
        "colab": {
          "base_uri": "https://localhost:8080/"
        },
        "id": "xLM354u4h_fj",
        "outputId": "2a716d92-1e7f-4654-efa6-496c02c8898c"
      },
      "execution_count": 101,
      "outputs": [
        {
          "output_type": "execute_result",
          "data": {
            "text/plain": [
              "(3000, 11)"
            ]
          },
          "metadata": {},
          "execution_count": 101
        }
      ]
    },
    {
      "cell_type": "code",
      "source": [
        "from sklearn.preprocessing import StandardScaler\n",
        "scaler=StandardScaler()\n",
        "x_train=scaler.fit_transform(x_train)\n",
        "x_test=scaler.fit_transform(x_test)"
      ],
      "metadata": {
        "id": "l-REc9o6C9Ag"
      },
      "execution_count": 71,
      "outputs": []
    },
    {
      "cell_type": "markdown",
      "source": [
        "##Creating Ann"
      ],
      "metadata": {
        "id": "h83-Bw7HEC-g"
      }
    },
    {
      "cell_type": "code",
      "source": [
        "from tensorflow import keras"
      ],
      "metadata": {
        "id": "D70wa_N9DmRG"
      },
      "execution_count": 72,
      "outputs": []
    },
    {
      "cell_type": "code",
      "source": [
        "from keras.models import Sequential\n",
        "from keras.layers import Dense"
      ],
      "metadata": {
        "id": "x1abWhEGEKs_"
      },
      "execution_count": 73,
      "outputs": []
    },
    {
      "cell_type": "code",
      "source": [
        "model=Sequential()\n",
        "model.add(Dense(6, kernel_initializer='he_uniform', activation='relu', input_shape=(11,)))\n",
        "model.add(Dense(6, kernel_initializer='he_uniform', activation='relu'))\n",
        "model.add(Dense(1, kernel_initializer='he_uniform', activation='sigmoid'))"
      ],
      "metadata": {
        "id": "rLUlJFxUGflf"
      },
      "execution_count": 88,
      "outputs": []
    },
    {
      "cell_type": "code",
      "source": [
        "model.compile(optimizer='adam',loss='binary_crossentropy',metrics=['accuracy'])"
      ],
      "metadata": {
        "id": "-j0C3xUbdh9k"
      },
      "execution_count": 93,
      "outputs": []
    },
    {
      "cell_type": "code",
      "source": [
        "model.fit(x_train,y_train,batch_size=10,epochs=100)"
      ],
      "metadata": {
        "colab": {
          "base_uri": "https://localhost:8080/"
        },
        "id": "vN0uUraRe40r",
        "outputId": "cba45dcd-c1a1-438a-8ed7-c6ec114133d7"
      },
      "execution_count": 94,
      "outputs": [
        {
          "output_type": "stream",
          "name": "stdout",
          "text": [
            "Epoch 1/100\n",
            "700/700 [==============================] - 1s 1ms/step - loss: 0.6034 - accuracy: 0.6923\n",
            "Epoch 2/100\n",
            "700/700 [==============================] - 1s 1ms/step - loss: 0.4689 - accuracy: 0.7993\n",
            "Epoch 3/100\n",
            "700/700 [==============================] - 1s 1ms/step - loss: 0.4357 - accuracy: 0.8096\n",
            "Epoch 4/100\n",
            "700/700 [==============================] - 1s 1ms/step - loss: 0.4137 - accuracy: 0.8204\n",
            "Epoch 5/100\n",
            "700/700 [==============================] - 1s 1ms/step - loss: 0.3947 - accuracy: 0.8324\n",
            "Epoch 6/100\n",
            "700/700 [==============================] - 1s 1ms/step - loss: 0.3793 - accuracy: 0.8409\n",
            "Epoch 7/100\n",
            "700/700 [==============================] - 1s 1ms/step - loss: 0.3687 - accuracy: 0.8459\n",
            "Epoch 8/100\n",
            "700/700 [==============================] - 1s 1ms/step - loss: 0.3629 - accuracy: 0.8490\n",
            "Epoch 9/100\n",
            "700/700 [==============================] - 1s 1ms/step - loss: 0.3591 - accuracy: 0.8523\n",
            "Epoch 10/100\n",
            "700/700 [==============================] - 1s 1ms/step - loss: 0.3567 - accuracy: 0.8507\n",
            "Epoch 11/100\n",
            "700/700 [==============================] - 1s 1ms/step - loss: 0.3548 - accuracy: 0.8533\n",
            "Epoch 12/100\n",
            "700/700 [==============================] - 1s 1ms/step - loss: 0.3530 - accuracy: 0.8530\n",
            "Epoch 13/100\n",
            "700/700 [==============================] - 1s 1ms/step - loss: 0.3519 - accuracy: 0.8543\n",
            "Epoch 14/100\n",
            "700/700 [==============================] - 1s 1ms/step - loss: 0.3512 - accuracy: 0.8557\n",
            "Epoch 15/100\n",
            "700/700 [==============================] - 1s 1ms/step - loss: 0.3500 - accuracy: 0.8543\n",
            "Epoch 16/100\n",
            "700/700 [==============================] - 1s 1ms/step - loss: 0.3488 - accuracy: 0.8550\n",
            "Epoch 17/100\n",
            "700/700 [==============================] - 1s 1ms/step - loss: 0.3486 - accuracy: 0.8546\n",
            "Epoch 18/100\n",
            "700/700 [==============================] - 1s 1ms/step - loss: 0.3478 - accuracy: 0.8556\n",
            "Epoch 19/100\n",
            "700/700 [==============================] - 1s 1ms/step - loss: 0.3472 - accuracy: 0.8567\n",
            "Epoch 20/100\n",
            "700/700 [==============================] - 1s 1ms/step - loss: 0.3463 - accuracy: 0.8566\n",
            "Epoch 21/100\n",
            "700/700 [==============================] - 1s 1ms/step - loss: 0.3452 - accuracy: 0.8567\n",
            "Epoch 22/100\n",
            "700/700 [==============================] - 1s 1ms/step - loss: 0.3450 - accuracy: 0.8577\n",
            "Epoch 23/100\n",
            "700/700 [==============================] - 1s 1ms/step - loss: 0.3443 - accuracy: 0.8559\n",
            "Epoch 24/100\n",
            "700/700 [==============================] - 1s 1ms/step - loss: 0.3435 - accuracy: 0.8566\n",
            "Epoch 25/100\n",
            "700/700 [==============================] - 1s 1ms/step - loss: 0.3433 - accuracy: 0.8583\n",
            "Epoch 26/100\n",
            "700/700 [==============================] - 1s 1ms/step - loss: 0.3426 - accuracy: 0.8580\n",
            "Epoch 27/100\n",
            "700/700 [==============================] - 1s 1ms/step - loss: 0.3415 - accuracy: 0.8594\n",
            "Epoch 28/100\n",
            "700/700 [==============================] - 1s 1ms/step - loss: 0.3410 - accuracy: 0.8584\n",
            "Epoch 29/100\n",
            "700/700 [==============================] - 1s 1ms/step - loss: 0.3399 - accuracy: 0.8609\n",
            "Epoch 30/100\n",
            "700/700 [==============================] - 1s 1ms/step - loss: 0.3398 - accuracy: 0.8599\n",
            "Epoch 31/100\n",
            "700/700 [==============================] - 1s 1ms/step - loss: 0.3392 - accuracy: 0.8584\n",
            "Epoch 32/100\n",
            "700/700 [==============================] - 1s 1ms/step - loss: 0.3379 - accuracy: 0.8607\n",
            "Epoch 33/100\n",
            "700/700 [==============================] - 1s 1ms/step - loss: 0.3381 - accuracy: 0.8593\n",
            "Epoch 34/100\n",
            "700/700 [==============================] - 1s 1ms/step - loss: 0.3375 - accuracy: 0.8594\n",
            "Epoch 35/100\n",
            "700/700 [==============================] - 1s 1ms/step - loss: 0.3369 - accuracy: 0.8611\n",
            "Epoch 36/100\n",
            "700/700 [==============================] - 1s 1ms/step - loss: 0.3369 - accuracy: 0.8599\n",
            "Epoch 37/100\n",
            "700/700 [==============================] - 1s 1ms/step - loss: 0.3363 - accuracy: 0.8603\n",
            "Epoch 38/100\n",
            "700/700 [==============================] - 1s 1ms/step - loss: 0.3361 - accuracy: 0.8589\n",
            "Epoch 39/100\n",
            "700/700 [==============================] - 1s 1ms/step - loss: 0.3356 - accuracy: 0.8607\n",
            "Epoch 40/100\n",
            "700/700 [==============================] - 1s 1ms/step - loss: 0.3357 - accuracy: 0.8600\n",
            "Epoch 41/100\n",
            "700/700 [==============================] - 1s 1ms/step - loss: 0.3351 - accuracy: 0.8617\n",
            "Epoch 42/100\n",
            "700/700 [==============================] - 1s 1ms/step - loss: 0.3349 - accuracy: 0.8611\n",
            "Epoch 43/100\n",
            "700/700 [==============================] - 1s 1ms/step - loss: 0.3349 - accuracy: 0.8609\n",
            "Epoch 44/100\n",
            "700/700 [==============================] - 1s 1ms/step - loss: 0.3342 - accuracy: 0.8590\n",
            "Epoch 45/100\n",
            "700/700 [==============================] - 1s 1ms/step - loss: 0.3344 - accuracy: 0.8611\n",
            "Epoch 46/100\n",
            "700/700 [==============================] - 1s 1ms/step - loss: 0.3336 - accuracy: 0.8627\n",
            "Epoch 47/100\n",
            "700/700 [==============================] - 2s 2ms/step - loss: 0.3341 - accuracy: 0.8611\n",
            "Epoch 48/100\n",
            "700/700 [==============================] - 2s 3ms/step - loss: 0.3333 - accuracy: 0.8619\n",
            "Epoch 49/100\n",
            "700/700 [==============================] - 1s 1ms/step - loss: 0.3331 - accuracy: 0.8623\n",
            "Epoch 50/100\n",
            "700/700 [==============================] - 1s 1ms/step - loss: 0.3335 - accuracy: 0.8616\n",
            "Epoch 51/100\n",
            "700/700 [==============================] - 1s 1ms/step - loss: 0.3325 - accuracy: 0.8611\n",
            "Epoch 52/100\n",
            "700/700 [==============================] - 1s 1ms/step - loss: 0.3331 - accuracy: 0.8629\n",
            "Epoch 53/100\n",
            "700/700 [==============================] - 1s 1ms/step - loss: 0.3325 - accuracy: 0.8609\n",
            "Epoch 54/100\n",
            "700/700 [==============================] - 1s 1ms/step - loss: 0.3326 - accuracy: 0.8634\n",
            "Epoch 55/100\n",
            "700/700 [==============================] - 1s 1ms/step - loss: 0.3326 - accuracy: 0.8633\n",
            "Epoch 56/100\n",
            "700/700 [==============================] - 1s 2ms/step - loss: 0.3324 - accuracy: 0.8621\n",
            "Epoch 57/100\n",
            "700/700 [==============================] - 1s 2ms/step - loss: 0.3322 - accuracy: 0.8646\n",
            "Epoch 58/100\n",
            "700/700 [==============================] - 1s 1ms/step - loss: 0.3320 - accuracy: 0.8626\n",
            "Epoch 59/100\n",
            "700/700 [==============================] - 1s 1ms/step - loss: 0.3322 - accuracy: 0.8633\n",
            "Epoch 60/100\n",
            "700/700 [==============================] - 1s 1ms/step - loss: 0.3320 - accuracy: 0.8630\n",
            "Epoch 61/100\n",
            "700/700 [==============================] - 1s 1ms/step - loss: 0.3311 - accuracy: 0.8619\n",
            "Epoch 62/100\n",
            "700/700 [==============================] - 1s 1ms/step - loss: 0.3314 - accuracy: 0.8624\n",
            "Epoch 63/100\n",
            "700/700 [==============================] - 1s 1ms/step - loss: 0.3313 - accuracy: 0.8626\n",
            "Epoch 64/100\n",
            "700/700 [==============================] - 1s 1ms/step - loss: 0.3312 - accuracy: 0.8623\n",
            "Epoch 65/100\n",
            "700/700 [==============================] - 1s 1ms/step - loss: 0.3314 - accuracy: 0.8627\n",
            "Epoch 66/100\n",
            "700/700 [==============================] - 1s 1ms/step - loss: 0.3311 - accuracy: 0.8631\n",
            "Epoch 67/100\n",
            "700/700 [==============================] - 1s 1ms/step - loss: 0.3311 - accuracy: 0.8616\n",
            "Epoch 68/100\n",
            "700/700 [==============================] - 1s 1ms/step - loss: 0.3309 - accuracy: 0.8650\n",
            "Epoch 69/100\n",
            "700/700 [==============================] - 1s 1ms/step - loss: 0.3309 - accuracy: 0.8619\n",
            "Epoch 70/100\n",
            "700/700 [==============================] - 1s 1ms/step - loss: 0.3307 - accuracy: 0.8616\n",
            "Epoch 71/100\n",
            "700/700 [==============================] - 1s 1ms/step - loss: 0.3309 - accuracy: 0.8626\n",
            "Epoch 72/100\n",
            "700/700 [==============================] - 1s 1ms/step - loss: 0.3303 - accuracy: 0.8617\n",
            "Epoch 73/100\n",
            "700/700 [==============================] - 1s 1ms/step - loss: 0.3301 - accuracy: 0.8607\n",
            "Epoch 74/100\n",
            "700/700 [==============================] - 1s 1ms/step - loss: 0.3302 - accuracy: 0.8630\n",
            "Epoch 75/100\n",
            "700/700 [==============================] - 1s 1ms/step - loss: 0.3301 - accuracy: 0.8634\n",
            "Epoch 76/100\n",
            "700/700 [==============================] - 1s 1ms/step - loss: 0.3300 - accuracy: 0.8616\n",
            "Epoch 77/100\n",
            "700/700 [==============================] - 1s 1ms/step - loss: 0.3301 - accuracy: 0.8634\n",
            "Epoch 78/100\n",
            "700/700 [==============================] - 1s 1ms/step - loss: 0.3302 - accuracy: 0.8631\n",
            "Epoch 79/100\n",
            "700/700 [==============================] - 1s 1ms/step - loss: 0.3304 - accuracy: 0.8619\n",
            "Epoch 80/100\n",
            "700/700 [==============================] - 1s 1ms/step - loss: 0.3300 - accuracy: 0.8640\n",
            "Epoch 81/100\n",
            "700/700 [==============================] - 1s 1ms/step - loss: 0.3296 - accuracy: 0.8650\n",
            "Epoch 82/100\n",
            "700/700 [==============================] - 1s 1ms/step - loss: 0.3298 - accuracy: 0.8657\n",
            "Epoch 83/100\n",
            "700/700 [==============================] - 1s 1ms/step - loss: 0.3301 - accuracy: 0.8630\n",
            "Epoch 84/100\n",
            "700/700 [==============================] - 1s 1ms/step - loss: 0.3293 - accuracy: 0.8640\n",
            "Epoch 85/100\n",
            "700/700 [==============================] - 1s 1ms/step - loss: 0.3292 - accuracy: 0.8626\n",
            "Epoch 86/100\n",
            "700/700 [==============================] - 1s 1ms/step - loss: 0.3293 - accuracy: 0.8627\n",
            "Epoch 87/100\n",
            "700/700 [==============================] - 1s 1ms/step - loss: 0.3294 - accuracy: 0.8631\n",
            "Epoch 88/100\n",
            "700/700 [==============================] - 1s 1ms/step - loss: 0.3286 - accuracy: 0.8649\n",
            "Epoch 89/100\n",
            "700/700 [==============================] - 1s 1ms/step - loss: 0.3292 - accuracy: 0.8619\n",
            "Epoch 90/100\n",
            "700/700 [==============================] - 1s 1ms/step - loss: 0.3293 - accuracy: 0.8619\n",
            "Epoch 91/100\n",
            "700/700 [==============================] - 1s 1ms/step - loss: 0.3290 - accuracy: 0.8636\n",
            "Epoch 92/100\n",
            "700/700 [==============================] - 1s 1ms/step - loss: 0.3284 - accuracy: 0.8640\n",
            "Epoch 93/100\n",
            "700/700 [==============================] - 1s 1ms/step - loss: 0.3293 - accuracy: 0.8624\n",
            "Epoch 94/100\n",
            "700/700 [==============================] - 1s 1ms/step - loss: 0.3286 - accuracy: 0.8637\n",
            "Epoch 95/100\n",
            "700/700 [==============================] - 1s 1ms/step - loss: 0.3286 - accuracy: 0.8630\n",
            "Epoch 96/100\n",
            "700/700 [==============================] - 1s 1ms/step - loss: 0.3286 - accuracy: 0.8637\n",
            "Epoch 97/100\n",
            "700/700 [==============================] - 1s 1ms/step - loss: 0.3285 - accuracy: 0.8630\n",
            "Epoch 98/100\n",
            "700/700 [==============================] - 1s 1ms/step - loss: 0.3284 - accuracy: 0.8621\n",
            "Epoch 99/100\n",
            "700/700 [==============================] - 1s 1ms/step - loss: 0.3286 - accuracy: 0.8637\n",
            "Epoch 100/100\n",
            "700/700 [==============================] - 1s 1ms/step - loss: 0.3287 - accuracy: 0.8633\n"
          ]
        },
        {
          "output_type": "execute_result",
          "data": {
            "text/plain": [
              "<keras.callbacks.History at 0x7f9521c5c1c0>"
            ]
          },
          "metadata": {},
          "execution_count": 94
        }
      ]
    },
    {
      "cell_type": "code",
      "source": [
        "y_pred=model.predict(x_test)"
      ],
      "metadata": {
        "colab": {
          "base_uri": "https://localhost:8080/"
        },
        "id": "H27-nbx0fqBz",
        "outputId": "f67bf34d-0c38-46d1-9e5a-ec29ee6654e6"
      },
      "execution_count": 95,
      "outputs": [
        {
          "output_type": "stream",
          "name": "stdout",
          "text": [
            "94/94 [==============================] - 0s 2ms/step\n"
          ]
        }
      ]
    },
    {
      "cell_type": "code",
      "source": [
        "y_pred=(y_pred>0.5)"
      ],
      "metadata": {
        "id": "7Wi9Sfv2g4eC"
      },
      "execution_count": 96,
      "outputs": []
    },
    {
      "cell_type": "code",
      "source": [
        "from sklearn.metrics import confusion_matrix\n",
        "cm=confusion_matrix(y_test,y_pred)"
      ],
      "metadata": {
        "id": "5O-XCwfshat8"
      },
      "execution_count": 98,
      "outputs": []
    },
    {
      "cell_type": "code",
      "source": [
        "cm"
      ],
      "metadata": {
        "colab": {
          "base_uri": "https://localhost:8080/"
        },
        "id": "Y4ej6At4hkbq",
        "outputId": "bae23185-4592-4eb9-b427-9eac3ddde071"
      },
      "execution_count": 99,
      "outputs": [
        {
          "output_type": "execute_result",
          "data": {
            "text/plain": [
              "array([[2326,   71],\n",
              "       [ 330,  273]])"
            ]
          },
          "metadata": {},
          "execution_count": 99
        }
      ]
    },
    {
      "cell_type": "code",
      "source": [
        "accuracy=2599/3000"
      ],
      "metadata": {
        "id": "hSer9O3JhlNL"
      },
      "execution_count": 102,
      "outputs": []
    },
    {
      "cell_type": "code",
      "source": [
        "print(accuracy)"
      ],
      "metadata": {
        "colab": {
          "base_uri": "https://localhost:8080/"
        },
        "id": "yxNpiPONiNmy",
        "outputId": "3b60b33f-8e7c-41e1-9066-0f35b47abaac"
      },
      "execution_count": 103,
      "outputs": [
        {
          "output_type": "stream",
          "name": "stdout",
          "text": [
            "0.8663333333333333\n"
          ]
        }
      ]
    },
    {
      "cell_type": "code",
      "source": [],
      "metadata": {
        "id": "0g8Ba8stiQeT"
      },
      "execution_count": null,
      "outputs": []
    }
  ]
}